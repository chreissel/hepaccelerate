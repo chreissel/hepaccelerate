{
 "cells": [
  {
   "cell_type": "code",
   "execution_count": 1,
   "metadata": {},
   "outputs": [],
   "source": [
    "%matplotlib inline"
   ]
  },
  {
   "cell_type": "markdown",
   "metadata": {},
   "source": [
    "https://indico.cern.ch/event/628669/contributions/2600995/attachments/1463252/2266733/2017_05_26_Hmm_preApproval.pdf"
   ]
  },
  {
   "cell_type": "code",
   "execution_count": 1,
   "metadata": {},
   "outputs": [
    {
     "name": "stdout",
     "output_type": "stream",
     "text": [
      "['/usr/lib/python36.zip', '/usr/lib/python3.6', '/usr/lib/python3.6/lib-dynload', '', '/usr/local/lib/python3.6/dist-packages', '/usr/lib/python3/dist-packages', '/usr/local/lib/python3.6/dist-packages/IPython/extensions', '/nfshome/jpata/.ipython', '/nfshome/jpata/gpu-analysis/']\n"
     ]
    },
    {
     "ename": "KeyError",
     "evalue": "'PYTHONPATH'",
     "output_type": "error",
     "traceback": [
      "\u001b[0;31m---------------------------------------------------------------------------\u001b[0m",
      "\u001b[0;31mKeyError\u001b[0m                                  Traceback (most recent call last)",
      "\u001b[0;32m<ipython-input-1-6621de095a46>\u001b[0m in \u001b[0;36m<module>\u001b[0;34m\u001b[0m\n\u001b[1;32m     11\u001b[0m \u001b[0mos\u001b[0m\u001b[0;34m.\u001b[0m\u001b[0menviron\u001b[0m\u001b[0;34m[\u001b[0m\u001b[0;34m\"NUMBAPRO_LIBDEVICE\"\u001b[0m\u001b[0;34m]\u001b[0m \u001b[0;34m=\u001b[0m \u001b[0;34m\"/usr/local/cuda/nvvm/libdevice/\"\u001b[0m\u001b[0;34m\u001b[0m\u001b[0;34m\u001b[0m\u001b[0m\n\u001b[1;32m     12\u001b[0m \u001b[0;31m#import cupy\u001b[0m\u001b[0;34m\u001b[0m\u001b[0;34m\u001b[0m\u001b[0;34m\u001b[0m\u001b[0m\n\u001b[0;32m---> 13\u001b[0;31m \u001b[0mprint\u001b[0m\u001b[0;34m(\u001b[0m\u001b[0mos\u001b[0m\u001b[0;34m.\u001b[0m\u001b[0menviron\u001b[0m\u001b[0;34m[\u001b[0m\u001b[0;34m\"PYTHONPATH\"\u001b[0m\u001b[0;34m]\u001b[0m\u001b[0;34m)\u001b[0m\u001b[0;34m\u001b[0m\u001b[0;34m\u001b[0m\u001b[0m\n\u001b[0m",
      "\u001b[0;32m/usr/lib/python3.6/os.py\u001b[0m in \u001b[0;36m__getitem__\u001b[0;34m(self, key)\u001b[0m\n\u001b[1;32m    667\u001b[0m         \u001b[0;32mexcept\u001b[0m \u001b[0mKeyError\u001b[0m\u001b[0;34m:\u001b[0m\u001b[0;34m\u001b[0m\u001b[0;34m\u001b[0m\u001b[0m\n\u001b[1;32m    668\u001b[0m             \u001b[0;31m# raise KeyError with the original key value\u001b[0m\u001b[0;34m\u001b[0m\u001b[0;34m\u001b[0m\u001b[0;34m\u001b[0m\u001b[0m\n\u001b[0;32m--> 669\u001b[0;31m             \u001b[0;32mraise\u001b[0m \u001b[0mKeyError\u001b[0m\u001b[0;34m(\u001b[0m\u001b[0mkey\u001b[0m\u001b[0;34m)\u001b[0m \u001b[0;32mfrom\u001b[0m \u001b[0;32mNone\u001b[0m\u001b[0;34m\u001b[0m\u001b[0;34m\u001b[0m\u001b[0m\n\u001b[0m\u001b[1;32m    670\u001b[0m         \u001b[0;32mreturn\u001b[0m \u001b[0mself\u001b[0m\u001b[0;34m.\u001b[0m\u001b[0mdecodevalue\u001b[0m\u001b[0;34m(\u001b[0m\u001b[0mvalue\u001b[0m\u001b[0;34m)\u001b[0m\u001b[0;34m\u001b[0m\u001b[0;34m\u001b[0m\u001b[0m\n\u001b[1;32m    671\u001b[0m \u001b[0;34m\u001b[0m\u001b[0m\n",
      "\u001b[0;31mKeyError\u001b[0m: 'PYTHONPATH'"
     ]
    }
   ],
   "source": [
    "import uproot, awkward\n",
    "import numpy as np\n",
    "import sys\n",
    "sys.path.append(\"/nfshome/jpata/gpu-analysis/\")\n",
    "if \"/nfshome/jpata/.local/lib/python3.6/site-packages\" in sys.path:\n",
    "    sys.path.pop(sys.path.index(\"/nfshome/jpata/.local/lib/python3.6/site-packages\"))\n",
    "print(sys.path)\n",
    "import hepaccelerate as ha\n",
    "import os\n",
    "os.environ[\"NUMBAPRO_NVVM\"] = \"/usr/local/cuda/nvvm/lib64/libnvvm.so\"\n",
    "os.environ[\"NUMBAPRO_LIBDEVICE\"] = \"/usr/local/cuda/nvvm/libdevice/\"\n",
    "#import cupy\n",
    "print(os.environ[\"PYTHONPATH\"])"
   ]
  },
  {
   "cell_type": "code",
   "execution_count": 13,
   "metadata": {},
   "outputs": [
    {
     "ename": "NameError",
     "evalue": "name 'cupy' is not defined",
     "output_type": "error",
     "traceback": [
      "\u001b[0;31m---------------------------------------------------------------------------\u001b[0m",
      "\u001b[0;31mNameError\u001b[0m                                 Traceback (most recent call last)",
      "\u001b[0;32m<ipython-input-13-d31f49f79558>\u001b[0m in \u001b[0;36m<module>\u001b[0;34m\u001b[0m\n\u001b[0;32m----> 1\u001b[0;31m \u001b[0mawkward\u001b[0m\u001b[0;34m.\u001b[0m\u001b[0m__version__\u001b[0m\u001b[0;34m,\u001b[0m \u001b[0mcupy\u001b[0m\u001b[0;34m.\u001b[0m\u001b[0m__version__\u001b[0m\u001b[0;34m\u001b[0m\u001b[0;34m\u001b[0m\u001b[0m\n\u001b[0m",
      "\u001b[0;31mNameError\u001b[0m: name 'cupy' is not defined"
     ]
    }
   ],
   "source": [
    "awkward.__version__, cupy.__version__"
   ]
  },
  {
   "cell_type": "code",
   "execution_count": 5,
   "metadata": {},
   "outputs": [],
   "source": [
    "import matplotlib.pyplot as plt"
   ]
  },
  {
   "cell_type": "code",
   "execution_count": 6,
   "metadata": {},
   "outputs": [],
   "source": [
    "#[jpata@login-1 ~]$ rsync -r -R --progress /mnt/hadoop/store/./data/Run2017*/SingleMuon/NANOAOD/Nano14Dec2018-v1 titans.hep.caltech.edu:/nvmedata/store/\n",
    "files = OrderedDict()\n",
    "files[\"dy\"] = glob.glob(\"/nvmedata/store/mc/RunIIFall17NanoAOD/DYJetsToLL_M-50_TuneCP5_13TeV-amcatnloFXFX-pythia8/NANOAODSIM/**/*.root\", recursive=True)\n",
    "files[\"ggh\"] = glob.glob(\"/nvmedata/store/mc/RunIIFall17NanoAOD/GluGluHToMuMu_M125_13TeV_amcatnloFXFX_pythia8/NANOAODSIM/**/*.root\", recursive=True)\n",
    "\n",
    "files[\"data_2017\"] = glob.glob(\"/nvmedata/store/data/Run2017*/SingleMuon/NANOAOD/Nano14Dec2018-v1/**/*.root\")"
   ]
  },
  {
   "cell_type": "code",
   "execution_count": 7,
   "metadata": {},
   "outputs": [],
   "source": [
    "#remove the friend trees\n",
    "files[\"ggh\"] = [x for x in files[\"ggh\"] if \"Friend\" not in x]"
   ]
  },
  {
   "cell_type": "code",
   "execution_count": 8,
   "metadata": {},
   "outputs": [
    {
     "data": {
      "text/plain": [
       "['/nvmedata/store/mc/RunIIFall17NanoAOD/GluGluHToMuMu_M125_13TeV_amcatnloFXFX_pythia8/NANOAODSIM/PU2017_12Apr2018_94X_mc2017_realistic_v14-v1/20000/76434428-F342-E811-8E45-B499BAAC3786.root',\n",
       " '/nvmedata/store/mc/RunIIFall17NanoAOD/GluGluHToMuMu_M125_13TeV_amcatnloFXFX_pythia8/NANOAODSIM/PU2017_12Apr2018_94X_mc2017_realistic_v14-v1/20000/0C2B3A66-B042-E811-8C6D-44A8423DE2C0.root',\n",
       " '/nvmedata/store/mc/RunIIFall17NanoAOD/GluGluHToMuMu_M125_13TeV_amcatnloFXFX_pythia8/NANOAODSIM/PU2017_12Apr2018_94X_mc2017_realistic_v14-v1/20000/E07AC933-F342-E811-A68D-3417EBE5354A.root']"
      ]
     },
     "execution_count": 8,
     "metadata": {},
     "output_type": "execute_result"
    }
   ],
   "source": [
    "files[\"ggh\"]"
   ]
  },
  {
   "cell_type": "code",
   "execution_count": 9,
   "metadata": {},
   "outputs": [
    {
     "name": "stdout",
     "output_type": "stream",
     "text": [
      "dy 154\n",
      "ggh 3\n",
      "data_2017 240\n"
     ]
    }
   ],
   "source": [
    "for k, v in files.items():\n",
    "    print(k, len(v))"
   ]
  },
  {
   "cell_type": "code",
   "execution_count": 10,
   "metadata": {},
   "outputs": [],
   "source": [
    "arrays_ev = [\n",
    "    \"PV_npvsGood\", \"Flag_METFilters\", \"Flag_goodVertices\", \"Generator_weight\", \"genWeight\", \"HLT_IsoMu24\"\n",
    "]\n",
    "arrays_jet = [\n",
    "    \"Jet_pt\", \"Jet_eta\", \"Jet_phi\", \"Jet_btagDeepB\", \"Jet_jetId\"\n",
    "]\n",
    "\n",
    "arrays_muon = [\n",
    "    \"nMuon\", \"Muon_pt\", \"Muon_eta\", \"Muon_phi\", \"Muon_mass\", \"Muon_pfRelIso03_all\", \"Muon_mediumId\", \"Muon_charge\"\n",
    "]\n",
    "\n",
    "arrays_to_load = arrays_jet + arrays_muon"
   ]
  },
  {
   "cell_type": "code",
   "execution_count": 11,
   "metadata": {},
   "outputs": [],
   "source": [
    "arrays_gen = [\n",
    "    \"GenPart_pt\", \"GenPart_eta\", \"GenPart_phi\", \"GenPart_mass\", \"GenPart_pdgId\", \"GenPart_status\"\n",
    "]"
   ]
  },
  {
   "cell_type": "code",
   "execution_count": 12,
   "metadata": {},
   "outputs": [],
   "source": [
    "fn = files[\"dy\"][0]\n",
    "fi = uproot.open(fn)\n",
    "tt = fi.get(\"Events\")"
   ]
  },
  {
   "cell_type": "code",
   "execution_count": 13,
   "metadata": {},
   "outputs": [],
   "source": [
    "\"\"\"\n",
    "Preloads all data into memory.\n",
    "\n",
    "Args:\n",
    "    dataset_files (Dict[str, List[str]]): a dictionary of dataset name to the list of filenames for each dataset\n",
    "\n",
    "returns:\n",
    "    Dict[str, List[Dict[str, JaggedArray]]]\n",
    "    \n",
    "    For each dataset, a list of awkward-array JaggedArray dictionaries \n",
    "\"\"\"\n",
    "def preload_data(dataset_files, arrays_to_load):\n",
    "    ret = {}\n",
    "    for dsname, dsfiles in dataset_files.items():\n",
    "        ret[dsname] = [load_arrays(fn, arrays_to_load) for fn in dsfiles]\n",
    "    return ret\n",
    "\n",
    "def load_arrays(fn, arrays_to_load):\n",
    "    #print(\"opening file {0}\".format(fn))\n",
    "    fi = uproot.open(fn)\n",
    "    tt = fi.get(\"Events\")\n",
    "    with ThreadPoolExecutor(max_workers=16) as executor:\n",
    "        arrs = tt.arrays(arrays_to_load, executor=executor)\n",
    "    #print(\"loaded {0} arrays, shape=({1},)\".format(len(arrs), tt.numentries))\n",
    "    return arrs"
   ]
  },
  {
   "cell_type": "code",
   "execution_count": 14,
   "metadata": {},
   "outputs": [],
   "source": [
    "def get_mem():\n",
    "    process = psutil.Process(os.getpid())\n",
    "    return process.memory_info().rss/1024.0/1024.0/1024.0"
   ]
  },
  {
   "cell_type": "code",
   "execution_count": 15,
   "metadata": {},
   "outputs": [],
   "source": [
    "def print_mem():\n",
    "    print(\"Using {0:.2f} GB of RSS\".format(get_mem()))"
   ]
  },
  {
   "cell_type": "code",
   "execution_count": 16,
   "metadata": {},
   "outputs": [
    {
     "name": "stdout",
     "output_type": "stream",
     "text": [
      "Using 0.19 GB of RSS\n",
      "Using 3.07 GB of RSS\n",
      "Loaded 8.97E+06 events in 21 seconds, speed 4.30E+05 Hz\n"
     ]
    }
   ],
   "source": [
    "print_mem()\n",
    "t0 = time.time()\n",
    "preloaded_data = preload_data({\n",
    "    \"dy\": files[\"dy\"][:2],\n",
    "     \"ggh\": files[\"ggh\"][:2],\n",
    "    \"data_2017\": files[\"data_2017\"][:2]\n",
    "    }, arrays_to_load)\n",
    "print_mem()\n",
    "t1 = time.time()\n",
    "dt = t1 - t0\n",
    "\n",
    "sum_ev = 0\n",
    "for k in preloaded_data.keys():\n",
    "    for arrs in preloaded_data[k]:\n",
    "        sum_ev += len(arrs[b\"Jet_pt\"])\n",
    "print(\"Loaded {0:.2E} events in {1:.0f} seconds, speed {2:.2E} Hz\".format(sum_ev, dt, sum_ev/dt))"
   ]
  },
  {
   "cell_type": "code",
   "execution_count": 41,
   "metadata": {},
   "outputs": [],
   "source": [
    "pts = preloaded_data[\"ggh\"][0][b\"Jet_pt\"]\n",
    "etas = preloaded_data[\"ggh\"][0][b\"Jet_eta\"]\n",
    "\n",
    "class Jet:\n",
    "    def __init__(self, pt, eta):\n",
    "        self.pt = pt\n",
    "        self.eta = eta\n",
    "    def __repr__(self):\n",
    "        s = \"Jet({0:.2f}, {1:.2f})\".format(self.pt, self.eta)\n",
    "        return s"
   ]
  },
  {
   "cell_type": "code",
   "execution_count": 42,
   "metadata": {},
   "outputs": [
    {
     "name": "stdout",
     "output_type": "stream",
     "text": [
      "5 [Jet(80.88, 0.15), Jet(52.41, 0.66), Jet(38.16, -0.40), Jet(16.42, -0.37), Jet(16.28, 0.55)]\n",
      "4 [Jet(87.44, 1.02), Jet(62.34, 0.78), Jet(51.72, -0.24), Jet(21.09, 1.74)]\n",
      "5 [Jet(53.66, -1.67), Jet(52.50, -0.08), Jet(20.58, -0.79), Jet(16.50, 4.97), Jet(15.56, -3.47)]\n",
      "4 [Jet(76.25, 0.49), Jet(62.91, 0.89), Jet(24.05, -4.15), Jet(16.22, -3.27)]\n",
      "5 [Jet(130.62, -1.73), Jet(39.81, 1.18), Jet(39.12, 0.47), Jet(15.45, -3.66), Jet(15.13, 0.43)]\n"
     ]
    }
   ],
   "source": [
    "for iev in range(5):\n",
    "    jets = []\n",
    "    for imuon in range(len(pts[iev])):\n",
    "        jets += [Jet(pts[iev][imuon], etas[iev][imuon])]\n",
    "    print(len(jets), jets)"
   ]
  },
  {
   "cell_type": "code",
   "execution_count": 48,
   "metadata": {},
   "outputs": [
    {
     "data": {
      "text/plain": [
       "array([ 0,  5,  9, 14, 18, 23])"
      ]
     },
     "execution_count": 48,
     "metadata": {},
     "output_type": "execute_result"
    }
   ],
   "source": [
    "pts.offsets[:6]"
   ]
  },
  {
   "cell_type": "code",
   "execution_count": 49,
   "metadata": {},
   "outputs": [
    {
     "data": {
      "text/plain": [
       "array([ 80.875    ,  52.40625  ,  38.15625  ,  16.421875 ,  16.28125  ,\n",
       "        87.4375   ,  62.34375  ,  51.71875  ,  21.09375  ,  53.65625  ,\n",
       "        52.5      ,  20.578125 ,  16.5      ,  15.5625   ,  76.25     ,\n",
       "        62.90625  ,  24.046875 ,  16.21875  , 130.625    ,  39.8125   ,\n",
       "        39.125    ,  15.4453125,  15.1328125], dtype=float32)"
      ]
     },
     "execution_count": 49,
     "metadata": {},
     "output_type": "execute_result"
    }
   ],
   "source": [
    "pts.content[:23]"
   ]
  },
  {
   "cell_type": "code",
   "execution_count": 50,
   "metadata": {},
   "outputs": [
    {
     "data": {
      "text/plain": [
       "array([ 0.14736938,  0.66174316, -0.40057373, -0.36938477,  0.54577637,\n",
       "        1.0239258 ,  0.7807617 , -0.2381897 ,  1.7397461 , -1.671875  ,\n",
       "       -0.07907104, -0.78637695,  4.9726562 , -3.4663086 ,  0.4921875 ,\n",
       "        0.89367676, -4.1503906 , -3.270996  , -1.732666  ,  1.1765137 ,\n",
       "        0.472229  , -3.661621  ,  0.42504883], dtype=float32)"
      ]
     },
     "execution_count": 50,
     "metadata": {},
     "output_type": "execute_result"
    }
   ],
   "source": [
    "etas.content[:23]"
   ]
  },
  {
   "cell_type": "code",
   "execution_count": null,
   "metadata": {},
   "outputs": [],
   "source": [
    "ds = hepaccelerate.NanoAODDataset(\n",
    "    glob.glob(\"/nvmedata/store/mc/RunIIFall17NanoAOD/DYJetsToLL_M-50_TuneCP5_13TeV-amcatnloFXFX-pythia8/NANOAODSIM/**/*.root\", recursive=True),\n",
    "    arrays_to_load, \"Events\", NUMPY_LIB\n",
    ")\n",
    "\n",
    "if prepare_cache:\n",
    "    ds.preload(nthreads=16, do_progress=True, event_vars=[bytes(x, encoding='ascii') for x in arrays_ev])\n",
    "    ds.to_cache(do_progress=True)\n",
    "else:\n",
    "    ds.from_cache(do_progress=True)\n",
    "\n",
    "ret = ds.analyze(analyze_data_function,\n",
    "    is_mc=is_mc,\n",
    "    pu_corrections_target=pu_corrections_2016,\n",
    "    mu_pt_cut_leading=30, debug=False\n",
    ")\n",
    "\n",
    "#ret_35 = ds.analyze(analyze_data, mu_pt_cut_leading=35)\n",
    "#ret_40 = ds.analyze(analyze_data, mu_pt_cut_leading=40)\n",
    "ret.save_json(\"{0}.json\".format(datasetname))"
   ]
  },
  {
   "cell_type": "code",
   "execution_count": 60,
   "metadata": {},
   "outputs": [],
   "source": [
    "pts = preloaded_data[\"ggh\"][1][b\"Jet_pt\"]\n",
    "pts_gpu = cupy.array(pts.content)\n",
    "bins_cpu = np.linspace(0,500,100)\n",
    "bins_gpu = cupy.linspace(0,500,100)"
   ]
  },
  {
   "cell_type": "code",
   "execution_count": 66,
   "metadata": {},
   "outputs": [
    {
     "data": {
      "text/plain": [
       "(1279071, 7590616)"
      ]
     },
     "execution_count": 66,
     "metadata": {},
     "output_type": "execute_result"
    }
   ],
   "source": [
    "pts.shape[0], pts.content.shape[0]"
   ]
  },
  {
   "cell_type": "code",
   "execution_count": 61,
   "metadata": {},
   "outputs": [
    {
     "name": "stdout",
     "output_type": "stream",
     "text": [
      "416 ms ± 14.9 ms per loop (mean ± std. dev. of 7 runs, 1 loop each)\n"
     ]
    }
   ],
   "source": [
    "%timeit np.histogram(pts.content, bins_cpu)"
   ]
  },
  {
   "cell_type": "code",
   "execution_count": 62,
   "metadata": {},
   "outputs": [
    {
     "name": "stdout",
     "output_type": "stream",
     "text": [
      "7.39 ms ± 1.24 ms per loop (mean ± std. dev. of 7 runs, 100 loops each)\n"
     ]
    }
   ],
   "source": [
    "%timeit cupy.histogram(pts_cuda, bins_gpu)"
   ]
  },
  {
   "cell_type": "code",
   "execution_count": null,
   "metadata": {},
   "outputs": [],
   "source": []
  }
 ],
 "metadata": {
  "kernelspec": {
   "display_name": "Python 3",
   "language": "python",
   "name": "python3"
  },
  "language_info": {
   "codemirror_mode": {
    "name": "ipython",
    "version": 3
   },
   "file_extension": ".py",
   "mimetype": "text/x-python",
   "name": "python",
   "nbconvert_exporter": "python",
   "pygments_lexer": "ipython3",
   "version": "3.6.7"
  }
 },
 "nbformat": 4,
 "nbformat_minor": 2
}
